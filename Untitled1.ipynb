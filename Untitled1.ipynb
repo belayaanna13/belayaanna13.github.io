{
  "nbformat": 4,
  "nbformat_minor": 0,
  "metadata": {
    "colab": {
      "name": "Untitled1.ipynb",
      "provenance": [],
      "collapsed_sections": [],
      "authorship_tag": "ABX9TyPQTPAL6AauUkaIdM4FsIin",
      "include_colab_link": true
    },
    "kernelspec": {
      "name": "python3",
      "display_name": "Python 3"
    },
    "language_info": {
      "name": "python"
    }
  },
  "cells": [
    {
      "cell_type": "markdown",
      "metadata": {
        "id": "view-in-github",
        "colab_type": "text"
      },
      "source": [
        "<a href=\"https://colab.research.google.com/github/belayaanna13/belayaanna13.github.io/blob/main/Untitled1.ipynb\" target=\"_parent\"><img src=\"https://colab.research.google.com/assets/colab-badge.svg\" alt=\"Open In Colab\"/></a>"
      ]
    },
    {
      "cell_type": "code",
      "execution_count": null,
      "metadata": {
        "colab": {
          "base_uri": "https://localhost:8080/"
        },
        "id": "lvbv_MqIViM_",
        "outputId": "4840b3c7-3bf3-4cee-9da9-78fd017c0d01"
      },
      "outputs": [
        {
          "output_type": "stream",
          "name": "stdout",
          "text": [
            "hello world\n"
          ]
        }
      ],
      "source": [
        "print('hello world')"
      ]
    },
    {
      "cell_type": "code",
      "source": [
        "import numpy as np\n",
        "weights = np.array([0.1, 0.2, 0])\n",
        "def neural_network(input, weights):\n",
        "    pred = input.dot(weights)\n",
        "    return pred\n",
        "\n",
        "toes = np.array([8.5, 9.5, 9.9, 9.0])\n",
        "wlrec = np.array([0.65, 0.8, 0.8, 0.9])\n",
        "nfans = np.array([1.2, 1.3, 0.5, 1.0])\n",
        "\n",
        "input = np.array([toes[0], wlrec[0], nfans[0]])\n",
        "pred = neural_network(input, weights)\n",
        "print(pred)"
      ],
      "metadata": {
        "colab": {
          "base_uri": "https://localhost:8080/"
        },
        "id": "FUzig__AV3qW",
        "outputId": "efe6dc3c-4d07-47ef-f5c7-37f6406edcb6"
      },
      "execution_count": null,
      "outputs": [
        {
          "output_type": "stream",
          "name": "stdout",
          "text": [
            "0.9800000000000001\n"
          ]
        }
      ]
    },
    {
      "cell_type": "markdown",
      "source": [
        "Прогнозирование с несколькими выходами\n"
      ],
      "metadata": {
        "id": "fd4gyua4AoE-"
      }
    },
    {
      "cell_type": "code",
      "source": [
        "weights = [0.3, 0.2, 0.9]\n",
        "\n",
        "def ele_mul(number, vector):\n",
        "  output = [0, 0, 0]\n",
        "  assert(len(output)) == len(vector)\n",
        "  for i in range (len(vector)):\n",
        "    output[i] = number*vector[i]\n",
        "  return output\n",
        "\n",
        "def neural_network(input, weights):\n",
        "  pred = ele_mul(input, weights)\n",
        "  return pred\n",
        "\n",
        "wlrec = [0.65, 0.8, 0.8, 0.9]\n",
        "input = wlrec[0]\n",
        "pred = neural_network(input, weights)\n",
        "print(pred)\n"
      ],
      "metadata": {
        "colab": {
          "base_uri": "https://localhost:8080/"
        },
        "id": "iMZF8RTaA3hY",
        "outputId": "911848bb-2666-41ae-bcbd-707d2516f2e1"
      },
      "execution_count": null,
      "outputs": [
        {
          "output_type": "stream",
          "name": "stdout",
          "text": [
            "[0.195, 0.13, 0.5850000000000001]\n"
          ]
        }
      ]
    },
    {
      "cell_type": "markdown",
      "source": [
        "Прогнозирование с несколькими входами и выходами"
      ],
      "metadata": {
        "id": "fKiNV41rLniO"
      }
    },
    {
      "cell_type": "code",
      "source": [
        "toes = [8.5, 9.5, 9.9, 9.0]\n",
        "wlrec = [0.65, 0.8, 0.8, 0.9]\n",
        "nfans = [1.2, 1.3, 0.5, 1.0]\n"
      ],
      "metadata": {
        "id": "B7o0D-ZWLsNo"
      },
      "execution_count": null,
      "outputs": []
    },
    {
      "cell_type": "markdown",
      "source": [
        "Этот набор определяет текущее состояние перед началом каждой из первых четырех игр в сезоне: \n",
        "toes = текущее среднее число игр, сыгранных игроками\n",
        "wlrec = текущая доля игр, окончившихся победой (процент)\n",
        "nfans = число болельщиков (в миллионах)"
      ],
      "metadata": {
        "id": "ztknGBysM_y6"
      }
    },
    {
      "cell_type": "code",
      "source": [
        "def w_sum(a,b):\n",
        "  assert(len(a)) == len(b)\n",
        "  output = 0\n",
        "  for i in range(len(a)):\n",
        "    output += (a[i]*b[i])\n",
        "  return output\n",
        "\n",
        "def vect_mat_mul(vect, matrix):\n",
        "  assert(len(vect)) == len(matrix)\n",
        "  output = [0, 0, 0]\n",
        "  for i in range(len(vect)):\n",
        "    output[i] = w_sum(vect, matrix[i])\n",
        "  return output\n",
        "\n",
        "def neural_nnetwork(input, weirhts):\n",
        "  pred = vect_mat_mul(input, weights)\n",
        "  "
      ],
      "metadata": {
        "id": "vDyBYMZjNtcN"
      },
      "execution_count": null,
      "outputs": []
    },
    {
      "cell_type": "markdown",
      "source": [
        "# Новый раздел"
      ],
      "metadata": {
        "id": "g8_SYhRDHCmE"
      }
    }
  ]
}