{
  "nbformat": 4,
  "nbformat_minor": 0,
  "metadata": {
    "colab": {
      "name": "Untitled2.ipynb",
      "provenance": [],
      "collapsed_sections": [],
      "authorship_tag": "ABX9TyOtGZ+nGTj71SQ65KzCVQrJ",
      "include_colab_link": true
    },
    "kernelspec": {
      "name": "python3",
      "display_name": "Python 3"
    },
    "language_info": {
      "name": "python"
    }
  },
  "cells": [
    {
      "cell_type": "markdown",
      "metadata": {
        "id": "view-in-github",
        "colab_type": "text"
      },
      "source": [
        "<a href=\"https://colab.research.google.com/github/belayaanna13/belayaanna13.github.io/blob/main/Untitled2.ipynb\" target=\"_parent\"><img src=\"https://colab.research.google.com/assets/colab-badge.svg\" alt=\"Open In Colab\"/></a>"
      ]
    },
    {
      "cell_type": "markdown",
      "source": [
        "Задание 1\n",
        "\n",
        "Дан массив чисел[𝑥1, . . . , 𝑥𝑛]и число 𝑥. Написать программу,выводящую число вхождений𝑥в заданный массив."
      ],
      "metadata": {
        "id": "YZXihXEHHO6W"
      }
    },
    {
      "cell_type": "code",
      "source": [
        "import random as r\n",
        "\n",
        "first_number = int(input('Введите от какого числа может быть выборка:'))\n",
        "last_number = int(input('Введите до какого числа может быть выборка:'))\n",
        "list = []\n",
        "number = int(input('Введите число \"x\": '))\n",
        "\n",
        "for i in range(int(input('Введите количество чисел в массиве:'))):\n",
        "  list.append(r.randint(first_number, last_number))\n",
        "  \n",
        "print(f'Количество вхождений числа \"x\": {list.count(number)}')"
      ],
      "metadata": {
        "colab": {
          "base_uri": "https://localhost:8080/"
        },
        "id": "3iTnLl8RHT75",
        "outputId": "92dbd2c8-10b9-412d-bc3a-4e191c03f636"
      },
      "execution_count": 10,
      "outputs": [
        {
          "output_type": "stream",
          "name": "stdout",
          "text": [
            "Введите от какого числа может быть выборка:17\n",
            "Введите до какого числа может быть выборка:89\n",
            "Введите число \"x\"56\n",
            "Введите количество чисел в массиве:10000\n",
            "Количество вхождений числа \"x\": 139\n"
          ]
        }
      ]
    },
    {
      "cell_type": "markdown",
      "source": [
        "Задание 2\n",
        "\n",
        "Написать программу, определяющую второй по величине элемент в введенном массиве. Пример: для входного массива[1,5,−2,5,4,0]программа должна вернуть значение 4."
      ],
      "metadata": {
        "id": "GPM2TLonMo0c"
      }
    },
    {
      "cell_type": "code",
      "source": [
        "list_ = [3, -5, 7, 89, 56, 89, 89, 14, -90, 89, 89, 89]\n",
        "max_number = max(list_)\n",
        "count_max_number = list_.count(max_number)\n",
        "\n",
        "\n",
        "for i in range(count_max_number):\n",
        "  index = list_.index(max_number)\n",
        "  del list_[index]\n",
        "\n",
        "print(f'Второй по величине элемент в введенном массиве: {max(list_)}')\n",
        "\n",
        "\n",
        "\n"
      ],
      "metadata": {
        "colab": {
          "base_uri": "https://localhost:8080/"
        },
        "id": "gPJ9Xh6cMq7r",
        "outputId": "80c082d8-51b9-4c43-981f-c423adb5514e"
      },
      "execution_count": 14,
      "outputs": [
        {
          "output_type": "stream",
          "name": "stdout",
          "text": [
            "Второй по величине элемент в введенном массиве: 56\n"
          ]
        }
      ]
    },
    {
      "cell_type": "markdown",
      "source": [
        "Задание 3.\n",
        "\n",
        "Написать программу, определяющую третий по величине элемент в введенном массиве. Пример: для входного массива [1,5,−2,5,4,0] программа должна вернуть значение 1."
      ],
      "metadata": {
        "id": "NX4aSB27T6Og"
      }
    },
    {
      "cell_type": "code",
      "source": [
        "list_ = [3, -5, 7, 89, 56, 89, 89, 14, -90, 89, 89, 89]\n",
        "max_number = max(list_)\n",
        "count_max_number = list_.count(max_number)\n",
        "\n",
        "\n",
        "for i in range(count_max_number):\n",
        "  index = list_.index(max_number)\n",
        "  del list_[index]\n",
        "\n",
        "max_number_2 = max(list_)\n",
        "count_max_number_2 = list_.count(max_number_2)\n",
        "\n",
        "for i in range(count_max_number_2):\n",
        "  index_2 = list_.index(max_number_2)\n",
        "  del list_[index_2]\n",
        "\n",
        "print(f'Третий по величине элемент в введенном массиве: {max(list_)}')\n"
      ],
      "metadata": {
        "colab": {
          "base_uri": "https://localhost:8080/"
        },
        "id": "nS2JqbkHUGwC",
        "outputId": "7b253915-5fe7-4ee6-e002-bb432f2eee0a"
      },
      "execution_count": 15,
      "outputs": [
        {
          "output_type": "stream",
          "name": "stdout",
          "text": [
            "Третий по величине элемент в введенном массиве: 14\n"
          ]
        }
      ]
    },
    {
      "cell_type": "markdown",
      "source": [
        "Задание 4.\n",
        "\n",
        "Число называется палиндромом, если оно читается одинаково вобоих направлениях (например, 1534351). Написать программу, определяющую, является ли введенное число 𝑥 палиндромом."
      ],
      "metadata": {
        "id": "23etnAJzUuKR"
      }
    },
    {
      "cell_type": "code",
      "source": [
        "number = 1534351\n",
        "n = 0\n",
        "\n",
        "\n",
        "for i in range(len(str(number))//2):\n",
        "  if str(number)[i] == str(number)[-(i+1)]:\n",
        "    n += 1\n",
        "if n == len(str(number))//2:\n",
        "  print(f'Число {number} палиндром.')\n",
        "else:\n",
        "  print(f'Число {number} не является палиндромом.')\n",
        "\n",
        "\n",
        "\n",
        "\n",
        "\n",
        "\n"
      ],
      "metadata": {
        "colab": {
          "base_uri": "https://localhost:8080/"
        },
        "id": "dEstYpUjU2Mn",
        "outputId": "368e3e93-9a40-45ce-eb2c-8e00cef7b6e8"
      },
      "execution_count": 21,
      "outputs": [
        {
          "output_type": "stream",
          "name": "stdout",
          "text": [
            "Число 1534351 палиндром.\n"
          ]
        }
      ]
    },
    {
      "cell_type": "markdown",
      "source": [
        "Задание 5.\n",
        "\n",
        "Числа 𝑥 и 𝑦 вводятся в виде массивов их цифр в десятичной записи в обратном порядке. Написать программу, выводящую массив с десятичной записью числа 𝑥+𝑦. Пример: вводятся𝑥= [9,8,1], 𝑦= [7,1], программа должна вывести[6,0,2](таккак189 + 17 = 206)."
      ],
      "metadata": {
        "id": "0MswLFnVaj6O"
      }
    },
    {
      "cell_type": "code",
      "source": [
        "x = ['9', '8', '1']\n",
        "y = ['7', '1']\n",
        "\n",
        "x.reverse()\n",
        "y.reverse()\n",
        "\n",
        "x_nub = ''.join(x)\n",
        "y_nub = ''.join(y)\n",
        "\n",
        "s = str(int(x_nub) + int(y_nub))\n",
        "list_s = s.split()\n",
        "list_s.reverse()\n",
        "print(list_s)"
      ],
      "metadata": {
        "colab": {
          "base_uri": "https://localhost:8080/"
        },
        "id": "AdPCw0J8avZk",
        "outputId": "b5e2e5c9-7516-481e-a87d-e30e71efe955"
      },
      "execution_count": 31,
      "outputs": [
        {
          "output_type": "stream",
          "name": "stdout",
          "text": [
            "['206']\n"
          ]
        }
      ]
    }
  ]
}