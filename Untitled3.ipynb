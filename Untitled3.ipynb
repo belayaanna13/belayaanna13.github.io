{
  "cells": [
    {
      "cell_type": "markdown",
      "metadata": {
        "id": "view-in-github",
        "colab_type": "text"
      },
      "source": [
        "<a href=\"https://colab.research.google.com/github/belayaanna13/belayaanna13.github.io/blob/main/Untitled3.ipynb\" target=\"_parent\"><img src=\"https://colab.research.google.com/assets/colab-badge.svg\" alt=\"Open In Colab\"/></a>"
      ]
    },
    {
      "cell_type": "code",
      "execution_count": null,
      "metadata": {
        "id": "jf6Wmc_inMJv"
      },
      "outputs": [],
      "source": [
        "import numpy as np\n",
        "import pandas as pd\n",
        "from scipy import stats\n",
        "\n",
        "import matplotlib.pyplot as plt\n",
        "import seaborn as sns\n",
        "\n",
        "plt.style.use('ggplot')\n",
        "%matplotlib inline\n",
        "\n"
      ]
    },
    {
      "cell_type": "code",
      "execution_count": null,
      "metadata": {
        "colab": {
          "base_uri": "https://localhost:8080/"
        },
        "id": "LpY2BfAQpbv7",
        "outputId": "5f7274dc-4b0c-4759-f13a-b302ddfd6f53"
      },
      "outputs": [
        {
          "data": {
            "text/plain": [
              "array([ 0.36572085,  0.1842693 ,  0.15905589, -0.46573862,  0.45946475,\n",
              "       -0.83127715,  0.61326118, -0.53663236, -0.26541919,  1.09848995])"
            ]
          },
          "execution_count": 4,
          "metadata": {},
          "output_type": "execute_result"
        }
      ],
      "source": [
        "norm_rv = stats.norm(loc = 0, scale = 1)\n",
        "sample = norm_rv.rvs(1000)\n",
        "sample[:10]"
      ]
    },
    {
      "cell_type": "code",
      "execution_count": null,
      "metadata": {
        "id": "Xzhl0cCLrdiW"
      },
      "outputs": [],
      "source": [
        "x = np.linespace(-3, 3, 100)\n",
        "pdf = norm_rv(x)\n",
        "\n",
        "plt.plot(x, pdf)\n",
        "plt.ylabel('$f(x)$')\n",
        "plt.xlable('$x$')\n"
      ]
    },
    {
      "cell_type": "code",
      "execution_count": null,
      "metadata": {
        "colab": {
          "background_save": true,
          "base_uri": "https://localhost:8080/",
          "height": 269
        },
        "id": "kBA1xjgItX1Y",
        "outputId": "b8c97dc0-b2dd-4db3-ca5e-a195e943773c"
      },
      "outputs": [
        {
          "data": {
            "text/plain": [
              "Text(0, 0.5, 'y')"
            ]
          },
          "execution_count": null,
          "metadata": {},
          "output_type": "execute_result"
        },
        {
          "data": {
            "image/png": "[encoded data removed]",
            "text/plain": [
              "<Figure size 432x288 with 1 Axes>"
            ]
          },
          "metadata": {},
          "output_type": "display_data"
        }
      ],
      "source": [
        "#example\n",
        "x = np.random.rand(1000)\n",
        "y = np.random.rand(1000)\n",
        "\n",
        "fig = plt.figure()\n",
        "ax = fig.add_subplot(111)\n",
        "\n",
        "fig.set_facecolor('green')\n",
        "ax.set_facecolor('yellow')\n",
        "ax.set_xlim([-10, 10])\n",
        "ax.set_ylim([-2;2])\n",
        "ax.set_title('First Axes')\n",
        "ax.set_xlabel('x', color = 'black')\n",
        "ax.set_y"
      ]
    }
  ],
  "metadata": {
    "colab": {
      "collapsed_sections": [],
      "name": "Untitled3.ipynb",
      "provenance": [],
      "authorship_tag": "ABX9TyMe8TZt7H1K2/aB7k09AsyM",
      "include_colab_link": true
    },
    "kernelspec": {
      "display_name": "Python 3",
      "name": "python3"
    },
    "language_info": {
      "name": "python"
    }
  },
  "nbformat": 4,
  "nbformat_minor": 0
}